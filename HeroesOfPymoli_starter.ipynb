{
 "cells": [
  {
   "cell_type": "markdown",
   "metadata": {},
   "source": [
    "### Heroes Of Pymoli Data Analysis\n",
    "* Of the 1163 active players, the vast majority are male (84%). There also exists, a smaller, but notable proportion of female players (14%).\n",
    "\n",
    "* Our peak age demographic falls between 20-24 (44.8%) with secondary groups falling between 15-19 (18.60%) and 25-29 (13.4%).  \n",
    "-----"
   ]
  },
  {
   "cell_type": "markdown",
   "metadata": {},
   "source": [
    "### Note\n",
    "* Instructions have been included for each segment. You do not have to follow them exactly, but they are included to help you think through the steps."
   ]
  },
  {
   "cell_type": "code",
   "execution_count": 26,
   "metadata": {},
   "outputs": [
    {
     "data": {
      "text/html": [
       "<div>\n",
       "<style scoped>\n",
       "    .dataframe tbody tr th:only-of-type {\n",
       "        vertical-align: middle;\n",
       "    }\n",
       "\n",
       "    .dataframe tbody tr th {\n",
       "        vertical-align: top;\n",
       "    }\n",
       "\n",
       "    .dataframe thead th {\n",
       "        text-align: right;\n",
       "    }\n",
       "</style>\n",
       "<table border=\"1\" class=\"dataframe\">\n",
       "  <thead>\n",
       "    <tr style=\"text-align: right;\">\n",
       "      <th></th>\n",
       "      <th>Purchase ID</th>\n",
       "      <th>SN</th>\n",
       "      <th>Age</th>\n",
       "      <th>Gender</th>\n",
       "      <th>Item ID</th>\n",
       "      <th>Item Name</th>\n",
       "      <th>Price</th>\n",
       "    </tr>\n",
       "  </thead>\n",
       "  <tbody>\n",
       "    <tr>\n",
       "      <th>0</th>\n",
       "      <td>0</td>\n",
       "      <td>Lisim78</td>\n",
       "      <td>20</td>\n",
       "      <td>Male</td>\n",
       "      <td>108</td>\n",
       "      <td>Extraction, Quickblade Of Trembling Hands</td>\n",
       "      <td>3.53</td>\n",
       "    </tr>\n",
       "    <tr>\n",
       "      <th>1</th>\n",
       "      <td>1</td>\n",
       "      <td>Lisovynya38</td>\n",
       "      <td>40</td>\n",
       "      <td>Male</td>\n",
       "      <td>143</td>\n",
       "      <td>Frenzied Scimitar</td>\n",
       "      <td>1.56</td>\n",
       "    </tr>\n",
       "    <tr>\n",
       "      <th>2</th>\n",
       "      <td>2</td>\n",
       "      <td>Ithergue48</td>\n",
       "      <td>24</td>\n",
       "      <td>Male</td>\n",
       "      <td>92</td>\n",
       "      <td>Final Critic</td>\n",
       "      <td>4.88</td>\n",
       "    </tr>\n",
       "    <tr>\n",
       "      <th>3</th>\n",
       "      <td>3</td>\n",
       "      <td>Chamassasya86</td>\n",
       "      <td>24</td>\n",
       "      <td>Male</td>\n",
       "      <td>100</td>\n",
       "      <td>Blindscythe</td>\n",
       "      <td>3.27</td>\n",
       "    </tr>\n",
       "    <tr>\n",
       "      <th>4</th>\n",
       "      <td>4</td>\n",
       "      <td>Iskosia90</td>\n",
       "      <td>23</td>\n",
       "      <td>Male</td>\n",
       "      <td>131</td>\n",
       "      <td>Fury</td>\n",
       "      <td>1.44</td>\n",
       "    </tr>\n",
       "  </tbody>\n",
       "</table>\n",
       "</div>"
      ],
      "text/plain": [
       "   Purchase ID             SN  Age Gender  Item ID  \\\n",
       "0            0        Lisim78   20   Male      108   \n",
       "1            1    Lisovynya38   40   Male      143   \n",
       "2            2     Ithergue48   24   Male       92   \n",
       "3            3  Chamassasya86   24   Male      100   \n",
       "4            4      Iskosia90   23   Male      131   \n",
       "\n",
       "                                   Item Name  Price  \n",
       "0  Extraction, Quickblade Of Trembling Hands   3.53  \n",
       "1                          Frenzied Scimitar   1.56  \n",
       "2                               Final Critic   4.88  \n",
       "3                                Blindscythe   3.27  \n",
       "4                                       Fury   1.44  "
      ]
     },
     "execution_count": 26,
     "metadata": {},
     "output_type": "execute_result"
    }
   ],
   "source": [
    "# Dependencies and Setup\n",
    "import pandas as pd\n",
    "import numpy as np\n",
    "\n",
    "# File to Load (Remember to Change These)\n",
    "file_to_load = \"Resources/purchase_data.csv\"\n",
    "\n",
    "# Read Purchasing File and store into Pandas data frame\n",
    "purchase_data = pd.read_csv(file_to_load)\n",
    "purchase_data.head()"
   ]
  },
  {
   "cell_type": "markdown",
   "metadata": {},
   "source": [
    "## Player Count"
   ]
  },
  {
   "cell_type": "markdown",
   "metadata": {},
   "source": [
    "* Display the total number of players\n"
   ]
  },
  {
   "cell_type": "code",
   "execution_count": 27,
   "metadata": {},
   "outputs": [
    {
     "data": {
      "text/plain": [
       "576"
      ]
     },
     "execution_count": 27,
     "metadata": {},
     "output_type": "execute_result"
    }
   ],
   "source": [
    "total_players = len(purchase_data[\"SN\"].value_counts())\n",
    "total_players"
   ]
  },
  {
   "cell_type": "markdown",
   "metadata": {},
   "source": [
    "## Purchasing Analysis (Total)"
   ]
  },
  {
   "cell_type": "markdown",
   "metadata": {},
   "source": [
    "* Run basic calculations to obtain number of unique items, average price, etc.\n",
    "\n",
    "\n",
    "* Create a summary data frame to hold the results\n",
    "\n",
    "\n",
    "* Optional: give the displayed data cleaner formatting\n",
    "\n",
    "\n",
    "* Display the summary data frame\n"
   ]
  },
  {
   "cell_type": "code",
   "execution_count": 28,
   "metadata": {
    "scrolled": true
   },
   "outputs": [
    {
     "data": {
      "text/html": [
       "<style  type=\"text/css\" >\n",
       "</style>  \n",
       "<table id=\"T_7c8a9cec_42b0_11e9_8a3a_9a000ba7b6f0\" > \n",
       "<thead>    <tr> \n",
       "        <th class=\"blank level0\" ></th> \n",
       "        <th class=\"col_heading level0 col0\" >Unique Items</th> \n",
       "        <th class=\"col_heading level0 col1\" >Average Price</th> \n",
       "        <th class=\"col_heading level0 col2\" >Number of Purchase</th> \n",
       "        <th class=\"col_heading level0 col3\" >Total Revenue</th> \n",
       "    </tr></thead> \n",
       "<tbody>    <tr> \n",
       "        <th id=\"T_7c8a9cec_42b0_11e9_8a3a_9a000ba7b6f0level0_row0\" class=\"row_heading level0 row0\" >0</th> \n",
       "        <td id=\"T_7c8a9cec_42b0_11e9_8a3a_9a000ba7b6f0row0_col0\" class=\"data row0 col0\" >183</td> \n",
       "        <td id=\"T_7c8a9cec_42b0_11e9_8a3a_9a000ba7b6f0row0_col1\" class=\"data row0 col1\" >$3.05</td> \n",
       "        <td id=\"T_7c8a9cec_42b0_11e9_8a3a_9a000ba7b6f0row0_col2\" class=\"data row0 col2\" >780</td> \n",
       "        <td id=\"T_7c8a9cec_42b0_11e9_8a3a_9a000ba7b6f0row0_col3\" class=\"data row0 col3\" >$2,379.77</td> \n",
       "    </tr></tbody> \n",
       "</table> "
      ],
      "text/plain": [
       "<pandas.io.formats.style.Styler at 0x116374ba8>"
      ]
     },
     "execution_count": 28,
     "metadata": {},
     "output_type": "execute_result"
    }
   ],
   "source": [
    "unique_items = len((purchase_data[\"Item ID\"]).unique())\n",
    "average_price = (purchase_data[\"Price\"]).mean()\n",
    "number_of_purchases = (purchase_data[\"Purchase ID\"]).count()\n",
    "total_revenue = (purchase_data[\"Price\"]).sum()\n",
    "\n",
    "summary_table = pd.DataFrame({\"Unique Items\":[unique_items],\n",
    "                              \"Average Price\":[average_price],\n",
    "                              \"Number of Purchase\":[number_of_purchases],\n",
    "                              \"Total Revenue\":[total_revenue]})\n",
    "summary_table\n",
    "summary_table.style.format({'Average Price':\"${:,.2f}\",\n",
    "                         'Total Revenue': '${:,.2f}'})"
   ]
  },
  {
   "cell_type": "markdown",
   "metadata": {},
   "source": [
    "## Gender Demographics"
   ]
  },
  {
   "cell_type": "markdown",
   "metadata": {},
   "source": [
    "* Percentage and Count of Male Players\n",
    "\n",
    "\n",
    "* Percentage and Count of Female Players\n",
    "\n",
    "\n",
    "* Percentage and Count of Other / Non-Disclosed\n",
    "\n",
    "\n"
   ]
  },
  {
   "cell_type": "code",
   "execution_count": 29,
   "metadata": {
    "scrolled": true
   },
   "outputs": [
    {
     "data": {
      "text/html": [
       "<div>\n",
       "<style scoped>\n",
       "    .dataframe tbody tr th:only-of-type {\n",
       "        vertical-align: middle;\n",
       "    }\n",
       "\n",
       "    .dataframe tbody tr th {\n",
       "        vertical-align: top;\n",
       "    }\n",
       "\n",
       "    .dataframe thead th {\n",
       "        text-align: right;\n",
       "    }\n",
       "</style>\n",
       "<table border=\"1\" class=\"dataframe\">\n",
       "  <thead>\n",
       "    <tr style=\"text-align: right;\">\n",
       "      <th></th>\n",
       "      <th>Percentage of Players</th>\n",
       "      <th>Total Count</th>\n",
       "    </tr>\n",
       "    <tr>\n",
       "      <th>Gender</th>\n",
       "      <th></th>\n",
       "      <th></th>\n",
       "    </tr>\n",
       "  </thead>\n",
       "  <tbody>\n",
       "    <tr>\n",
       "      <th>Female</th>\n",
       "      <td>14.062500</td>\n",
       "      <td>81</td>\n",
       "    </tr>\n",
       "    <tr>\n",
       "      <th>Male</th>\n",
       "      <td>84.027778</td>\n",
       "      <td>484</td>\n",
       "    </tr>\n",
       "    <tr>\n",
       "      <th>Other / Non-Disclosed</th>\n",
       "      <td>1.909722</td>\n",
       "      <td>11</td>\n",
       "    </tr>\n",
       "  </tbody>\n",
       "</table>\n",
       "</div>"
      ],
      "text/plain": [
       "                       Percentage of Players  Total Count\n",
       "Gender                                                   \n",
       "Female                             14.062500           81\n",
       "Male                               84.027778          484\n",
       "Other / Non-Disclosed               1.909722           11"
      ]
     },
     "execution_count": 29,
     "metadata": {},
     "output_type": "execute_result"
    }
   ],
   "source": [
    "gender_var = purchase_data.groupby(\"Gender\")\n",
    "gender_count = gender_var.nunique()[\"SN\"]\n",
    "gender_count\n",
    "percent_players = gender_count / total_players * 100\n",
    "percent_players\n",
    "gender_summary = pd.DataFrame({\"Percentage of Players\": percent_players, \"Total Count\": gender_count})\n",
    "gender_summary"
   ]
  },
  {
   "cell_type": "markdown",
   "metadata": {},
   "source": [
    "\n",
    "## Purchasing Analysis (Gender)"
   ]
  },
  {
   "cell_type": "markdown",
   "metadata": {},
   "source": [
    "* Run basic calculations to obtain purchase count, avg. purchase price, avg. purchase total per person etc. by gender\n",
    "\n",
    "\n",
    "\n",
    "\n",
    "* Create a summary data frame to hold the results\n",
    "\n",
    "\n",
    "* Optional: give the displayed data cleaner formatting\n",
    "\n",
    "\n",
    "* Display the summary data frame"
   ]
  },
  {
   "cell_type": "code",
   "execution_count": 30,
   "metadata": {},
   "outputs": [
    {
     "data": {
      "text/html": [
       "<div>\n",
       "<style scoped>\n",
       "    .dataframe tbody tr th:only-of-type {\n",
       "        vertical-align: middle;\n",
       "    }\n",
       "\n",
       "    .dataframe tbody tr th {\n",
       "        vertical-align: top;\n",
       "    }\n",
       "\n",
       "    .dataframe thead th {\n",
       "        text-align: right;\n",
       "    }\n",
       "</style>\n",
       "<table border=\"1\" class=\"dataframe\">\n",
       "  <thead>\n",
       "    <tr style=\"text-align: right;\">\n",
       "      <th></th>\n",
       "      <th>Purchase Count</th>\n",
       "      <th>Average Purchase Price</th>\n",
       "      <th>Average Purchase Value</th>\n",
       "      <th>Avg Purchase Total per Person</th>\n",
       "    </tr>\n",
       "    <tr>\n",
       "      <th>Gender</th>\n",
       "      <th></th>\n",
       "      <th></th>\n",
       "      <th></th>\n",
       "      <th></th>\n",
       "    </tr>\n",
       "  </thead>\n",
       "  <tbody>\n",
       "    <tr>\n",
       "      <th>Female</th>\n",
       "      <td>113</td>\n",
       "      <td>3.203009</td>\n",
       "      <td>4.468395</td>\n",
       "      <td>4.468395</td>\n",
       "    </tr>\n",
       "    <tr>\n",
       "      <th>Male</th>\n",
       "      <td>652</td>\n",
       "      <td>3.017853</td>\n",
       "      <td>4.065372</td>\n",
       "      <td>4.065372</td>\n",
       "    </tr>\n",
       "    <tr>\n",
       "      <th>Other / Non-Disclosed</th>\n",
       "      <td>15</td>\n",
       "      <td>3.346000</td>\n",
       "      <td>4.562727</td>\n",
       "      <td>4.562727</td>\n",
       "    </tr>\n",
       "  </tbody>\n",
       "</table>\n",
       "</div>"
      ],
      "text/plain": [
       "                       Purchase Count  Average Purchase Price  \\\n",
       "Gender                                                          \n",
       "Female                            113                3.203009   \n",
       "Male                              652                3.017853   \n",
       "Other / Non-Disclosed              15                3.346000   \n",
       "\n",
       "                       Average Purchase Value  Avg Purchase Total per Person  \n",
       "Gender                                                                        \n",
       "Female                               4.468395                       4.468395  \n",
       "Male                                 4.065372                       4.065372  \n",
       "Other / Non-Disclosed                4.562727                       4.562727  "
      ]
     },
     "execution_count": 30,
     "metadata": {},
     "output_type": "execute_result"
    }
   ],
   "source": [
    "number_of_purchases_g = (gender_var[\"Purchase ID\"]).count()\n",
    "average_price_g = (gender_var[\"Price\"]).mean()\n",
    "total_revenue_g = (gender_var[\"Price\"]).sum()\n",
    "avg_purchase_g = total_revenue_g /gender_count\n",
    "analysis_summary = pd.DataFrame({\"Purchase Count\": number_of_purchases_g, \n",
    "                                    \"Average Purchase Price\": average_price_g,\n",
    "                                    \"Average Purchase Value\":avg_purchase_g,\n",
    "                                    \"Avg Purchase Total per Person\": avg_purchase_g})\n",
    "\n",
    "analysis_summary.index.name = \"Gender\"\n",
    "analysis_summary.style.format({\"Average Purchase Value\":\"${:,.2f}\",\n",
    "                                  \"Average Purchase Price\":\"${:,.2f}\",\n",
    "                                  \"Avg Purchase Total per Person\":\"${:,.2f}\"})\n",
    "analysis_summary"
   ]
  },
  {
   "cell_type": "markdown",
   "metadata": {},
   "source": [
    "## Age Demographics"
   ]
  },
  {
   "cell_type": "markdown",
   "metadata": {},
   "source": [
    "* Establish bins for ages\n",
    "\n",
    "\n",
    "* Categorize the existing players using the age bins. Hint: use pd.cut()\n",
    "\n",
    "\n",
    "* Calculate the numbers and percentages by age group\n",
    "\n",
    "\n",
    "* Create a summary data frame to hold the results\n",
    "\n",
    "\n",
    "* Optional: round the percentage column to two decimal points\n",
    "\n",
    "\n",
    "* Display Age Demographics Table\n"
   ]
  },
  {
   "cell_type": "code",
   "execution_count": 31,
   "metadata": {},
   "outputs": [],
   "source": [
    "age_bins = [0, 9.90, 14.90, 19.90, 24.90, 29.90, 34.90, 39.90, 99999]\n",
    "group_names = [\"<10\", \"10-14\", \"15-19\", \"20-24\", \"25-29\", \"30-34\", \"35-39\", \"40+\"]"
   ]
  },
  {
   "cell_type": "code",
   "execution_count": 32,
   "metadata": {},
   "outputs": [
    {
     "data": {
      "text/html": [
       "<style  type=\"text/css\" >\n",
       "</style>  \n",
       "<table id=\"T_8598910e_42b0_11e9_8a3a_9a000ba7b6f0\" > \n",
       "<thead>    <tr> \n",
       "        <th class=\"blank level0\" ></th> \n",
       "        <th class=\"col_heading level0 col0\" >Percentage of Players</th> \n",
       "        <th class=\"col_heading level0 col1\" >Total Count</th> \n",
       "    </tr></thead> \n",
       "<tbody>    <tr> \n",
       "        <th id=\"T_8598910e_42b0_11e9_8a3a_9a000ba7b6f0level0_row0\" class=\"row_heading level0 row0\" ><10</th> \n",
       "        <td id=\"T_8598910e_42b0_11e9_8a3a_9a000ba7b6f0row0_col0\" class=\"data row0 col0\" >2.95</td> \n",
       "        <td id=\"T_8598910e_42b0_11e9_8a3a_9a000ba7b6f0row0_col1\" class=\"data row0 col1\" >17</td> \n",
       "    </tr>    <tr> \n",
       "        <th id=\"T_8598910e_42b0_11e9_8a3a_9a000ba7b6f0level0_row1\" class=\"row_heading level0 row1\" >10-14</th> \n",
       "        <td id=\"T_8598910e_42b0_11e9_8a3a_9a000ba7b6f0row1_col0\" class=\"data row1 col0\" >3.82</td> \n",
       "        <td id=\"T_8598910e_42b0_11e9_8a3a_9a000ba7b6f0row1_col1\" class=\"data row1 col1\" >22</td> \n",
       "    </tr>    <tr> \n",
       "        <th id=\"T_8598910e_42b0_11e9_8a3a_9a000ba7b6f0level0_row2\" class=\"row_heading level0 row2\" >15-19</th> \n",
       "        <td id=\"T_8598910e_42b0_11e9_8a3a_9a000ba7b6f0row2_col0\" class=\"data row2 col0\" >18.58</td> \n",
       "        <td id=\"T_8598910e_42b0_11e9_8a3a_9a000ba7b6f0row2_col1\" class=\"data row2 col1\" >107</td> \n",
       "    </tr>    <tr> \n",
       "        <th id=\"T_8598910e_42b0_11e9_8a3a_9a000ba7b6f0level0_row3\" class=\"row_heading level0 row3\" >20-24</th> \n",
       "        <td id=\"T_8598910e_42b0_11e9_8a3a_9a000ba7b6f0row3_col0\" class=\"data row3 col0\" >44.79</td> \n",
       "        <td id=\"T_8598910e_42b0_11e9_8a3a_9a000ba7b6f0row3_col1\" class=\"data row3 col1\" >258</td> \n",
       "    </tr>    <tr> \n",
       "        <th id=\"T_8598910e_42b0_11e9_8a3a_9a000ba7b6f0level0_row4\" class=\"row_heading level0 row4\" >25-29</th> \n",
       "        <td id=\"T_8598910e_42b0_11e9_8a3a_9a000ba7b6f0row4_col0\" class=\"data row4 col0\" >13.37</td> \n",
       "        <td id=\"T_8598910e_42b0_11e9_8a3a_9a000ba7b6f0row4_col1\" class=\"data row4 col1\" >77</td> \n",
       "    </tr>    <tr> \n",
       "        <th id=\"T_8598910e_42b0_11e9_8a3a_9a000ba7b6f0level0_row5\" class=\"row_heading level0 row5\" >30-34</th> \n",
       "        <td id=\"T_8598910e_42b0_11e9_8a3a_9a000ba7b6f0row5_col0\" class=\"data row5 col0\" >9.03</td> \n",
       "        <td id=\"T_8598910e_42b0_11e9_8a3a_9a000ba7b6f0row5_col1\" class=\"data row5 col1\" >52</td> \n",
       "    </tr>    <tr> \n",
       "        <th id=\"T_8598910e_42b0_11e9_8a3a_9a000ba7b6f0level0_row6\" class=\"row_heading level0 row6\" >35-39</th> \n",
       "        <td id=\"T_8598910e_42b0_11e9_8a3a_9a000ba7b6f0row6_col0\" class=\"data row6 col0\" >5.38</td> \n",
       "        <td id=\"T_8598910e_42b0_11e9_8a3a_9a000ba7b6f0row6_col1\" class=\"data row6 col1\" >31</td> \n",
       "    </tr>    <tr> \n",
       "        <th id=\"T_8598910e_42b0_11e9_8a3a_9a000ba7b6f0level0_row7\" class=\"row_heading level0 row7\" >40+</th> \n",
       "        <td id=\"T_8598910e_42b0_11e9_8a3a_9a000ba7b6f0row7_col0\" class=\"data row7 col0\" >2.08</td> \n",
       "        <td id=\"T_8598910e_42b0_11e9_8a3a_9a000ba7b6f0row7_col1\" class=\"data row7 col1\" >12</td> \n",
       "    </tr></tbody> \n",
       "</table> "
      ],
      "text/plain": [
       "<pandas.io.formats.style.Styler at 0x1163bec88>"
      ]
     },
     "execution_count": 32,
     "metadata": {},
     "output_type": "execute_result"
    }
   ],
   "source": [
    "purchase_data[\"Age Group\"] = pd.cut(purchase_data[\"Age\"],age_bins, labels=group_names)\n",
    "purchase_data\n",
    "\n",
    "age_group = purchase_data.groupby(\"Age Group\")\n",
    "\n",
    "total_count_age = age_group[\"SN\"].nunique()\n",
    " \n",
    "percent_age = (total_count_age/total_players) * 100\n",
    "\n",
    "age_summary = pd.DataFrame({\"Percentage of Players\": percent_age, \"Total Count\": total_count_age})\n",
    "\n",
    "age_summary.index.name = None\n",
    "\n",
    "age_summary.style.format({\"Percentage of Players\":\"{:,.2f}\"})"
   ]
  },
  {
   "cell_type": "markdown",
   "metadata": {},
   "source": [
    "## Purchasing Analysis (Age)"
   ]
  },
  {
   "cell_type": "markdown",
   "metadata": {},
   "source": [
    "* Bin the purchase_data data frame by age\n",
    "\n",
    "\n",
    "* Run basic calculations to obtain purchase count, avg. purchase price, avg. purchase total per person etc. in the table below\n",
    "\n",
    "\n",
    "* Create a summary data frame to hold the results\n",
    "\n",
    "\n",
    "* Optional: give the displayed data cleaner formatting\n",
    "\n",
    "\n",
    "* Display the summary data frame"
   ]
  },
  {
   "cell_type": "code",
   "execution_count": 33,
   "metadata": {},
   "outputs": [
    {
     "data": {
      "text/html": [
       "<style  type=\"text/css\" >\n",
       "</style>  \n",
       "<table id=\"T_88e393b8_42b0_11e9_8a3a_9a000ba7b6f0\" > \n",
       "<thead>    <tr> \n",
       "        <th class=\"blank level0\" ></th> \n",
       "        <th class=\"col_heading level0 col0\" >Purchase Count</th> \n",
       "        <th class=\"col_heading level0 col1\" >Average Purchase Price</th> \n",
       "        <th class=\"col_heading level0 col2\" >Total Purchase Value</th> \n",
       "        <th class=\"col_heading level0 col3\" >Average Purchase Total per Person</th> \n",
       "    </tr></thead> \n",
       "<tbody>    <tr> \n",
       "        <th id=\"T_88e393b8_42b0_11e9_8a3a_9a000ba7b6f0level0_row0\" class=\"row_heading level0 row0\" ><10</th> \n",
       "        <td id=\"T_88e393b8_42b0_11e9_8a3a_9a000ba7b6f0row0_col0\" class=\"data row0 col0\" >23</td> \n",
       "        <td id=\"T_88e393b8_42b0_11e9_8a3a_9a000ba7b6f0row0_col1\" class=\"data row0 col1\" >$3.35</td> \n",
       "        <td id=\"T_88e393b8_42b0_11e9_8a3a_9a000ba7b6f0row0_col2\" class=\"data row0 col2\" >$77.13</td> \n",
       "        <td id=\"T_88e393b8_42b0_11e9_8a3a_9a000ba7b6f0row0_col3\" class=\"data row0 col3\" >$4.54</td> \n",
       "    </tr>    <tr> \n",
       "        <th id=\"T_88e393b8_42b0_11e9_8a3a_9a000ba7b6f0level0_row1\" class=\"row_heading level0 row1\" >10-14</th> \n",
       "        <td id=\"T_88e393b8_42b0_11e9_8a3a_9a000ba7b6f0row1_col0\" class=\"data row1 col0\" >28</td> \n",
       "        <td id=\"T_88e393b8_42b0_11e9_8a3a_9a000ba7b6f0row1_col1\" class=\"data row1 col1\" >$2.96</td> \n",
       "        <td id=\"T_88e393b8_42b0_11e9_8a3a_9a000ba7b6f0row1_col2\" class=\"data row1 col2\" >$82.78</td> \n",
       "        <td id=\"T_88e393b8_42b0_11e9_8a3a_9a000ba7b6f0row1_col3\" class=\"data row1 col3\" >$3.76</td> \n",
       "    </tr>    <tr> \n",
       "        <th id=\"T_88e393b8_42b0_11e9_8a3a_9a000ba7b6f0level0_row2\" class=\"row_heading level0 row2\" >15-19</th> \n",
       "        <td id=\"T_88e393b8_42b0_11e9_8a3a_9a000ba7b6f0row2_col0\" class=\"data row2 col0\" >136</td> \n",
       "        <td id=\"T_88e393b8_42b0_11e9_8a3a_9a000ba7b6f0row2_col1\" class=\"data row2 col1\" >$3.04</td> \n",
       "        <td id=\"T_88e393b8_42b0_11e9_8a3a_9a000ba7b6f0row2_col2\" class=\"data row2 col2\" >$412.89</td> \n",
       "        <td id=\"T_88e393b8_42b0_11e9_8a3a_9a000ba7b6f0row2_col3\" class=\"data row2 col3\" >$3.86</td> \n",
       "    </tr>    <tr> \n",
       "        <th id=\"T_88e393b8_42b0_11e9_8a3a_9a000ba7b6f0level0_row3\" class=\"row_heading level0 row3\" >20-24</th> \n",
       "        <td id=\"T_88e393b8_42b0_11e9_8a3a_9a000ba7b6f0row3_col0\" class=\"data row3 col0\" >365</td> \n",
       "        <td id=\"T_88e393b8_42b0_11e9_8a3a_9a000ba7b6f0row3_col1\" class=\"data row3 col1\" >$3.05</td> \n",
       "        <td id=\"T_88e393b8_42b0_11e9_8a3a_9a000ba7b6f0row3_col2\" class=\"data row3 col2\" >$1,114.06</td> \n",
       "        <td id=\"T_88e393b8_42b0_11e9_8a3a_9a000ba7b6f0row3_col3\" class=\"data row3 col3\" >$4.32</td> \n",
       "    </tr>    <tr> \n",
       "        <th id=\"T_88e393b8_42b0_11e9_8a3a_9a000ba7b6f0level0_row4\" class=\"row_heading level0 row4\" >25-29</th> \n",
       "        <td id=\"T_88e393b8_42b0_11e9_8a3a_9a000ba7b6f0row4_col0\" class=\"data row4 col0\" >101</td> \n",
       "        <td id=\"T_88e393b8_42b0_11e9_8a3a_9a000ba7b6f0row4_col1\" class=\"data row4 col1\" >$2.90</td> \n",
       "        <td id=\"T_88e393b8_42b0_11e9_8a3a_9a000ba7b6f0row4_col2\" class=\"data row4 col2\" >$293.00</td> \n",
       "        <td id=\"T_88e393b8_42b0_11e9_8a3a_9a000ba7b6f0row4_col3\" class=\"data row4 col3\" >$3.81</td> \n",
       "    </tr>    <tr> \n",
       "        <th id=\"T_88e393b8_42b0_11e9_8a3a_9a000ba7b6f0level0_row5\" class=\"row_heading level0 row5\" >30-34</th> \n",
       "        <td id=\"T_88e393b8_42b0_11e9_8a3a_9a000ba7b6f0row5_col0\" class=\"data row5 col0\" >73</td> \n",
       "        <td id=\"T_88e393b8_42b0_11e9_8a3a_9a000ba7b6f0row5_col1\" class=\"data row5 col1\" >$2.93</td> \n",
       "        <td id=\"T_88e393b8_42b0_11e9_8a3a_9a000ba7b6f0row5_col2\" class=\"data row5 col2\" >$214.00</td> \n",
       "        <td id=\"T_88e393b8_42b0_11e9_8a3a_9a000ba7b6f0row5_col3\" class=\"data row5 col3\" >$4.12</td> \n",
       "    </tr>    <tr> \n",
       "        <th id=\"T_88e393b8_42b0_11e9_8a3a_9a000ba7b6f0level0_row6\" class=\"row_heading level0 row6\" >35-39</th> \n",
       "        <td id=\"T_88e393b8_42b0_11e9_8a3a_9a000ba7b6f0row6_col0\" class=\"data row6 col0\" >41</td> \n",
       "        <td id=\"T_88e393b8_42b0_11e9_8a3a_9a000ba7b6f0row6_col1\" class=\"data row6 col1\" >$3.60</td> \n",
       "        <td id=\"T_88e393b8_42b0_11e9_8a3a_9a000ba7b6f0row6_col2\" class=\"data row6 col2\" >$147.67</td> \n",
       "        <td id=\"T_88e393b8_42b0_11e9_8a3a_9a000ba7b6f0row6_col3\" class=\"data row6 col3\" >$4.76</td> \n",
       "    </tr>    <tr> \n",
       "        <th id=\"T_88e393b8_42b0_11e9_8a3a_9a000ba7b6f0level0_row7\" class=\"row_heading level0 row7\" >40+</th> \n",
       "        <td id=\"T_88e393b8_42b0_11e9_8a3a_9a000ba7b6f0row7_col0\" class=\"data row7 col0\" >13</td> \n",
       "        <td id=\"T_88e393b8_42b0_11e9_8a3a_9a000ba7b6f0row7_col1\" class=\"data row7 col1\" >$2.94</td> \n",
       "        <td id=\"T_88e393b8_42b0_11e9_8a3a_9a000ba7b6f0row7_col2\" class=\"data row7 col2\" >$38.24</td> \n",
       "        <td id=\"T_88e393b8_42b0_11e9_8a3a_9a000ba7b6f0row7_col3\" class=\"data row7 col3\" >$3.19</td> \n",
       "    </tr></tbody> \n",
       "</table> "
      ],
      "text/plain": [
       "<pandas.io.formats.style.Styler at 0x1163b7eb8>"
      ]
     },
     "execution_count": 33,
     "metadata": {},
     "output_type": "execute_result"
    }
   ],
   "source": [
    "purchase_count_age = age_group[\"Purchase ID\"].count()\n",
    "\n",
    "avg_purchase_price_age = age_group[\"Price\"].mean()\n",
    "\n",
    "total_purchase_value = age_group[\"Price\"].sum()\n",
    "\n",
    "avg_purchase_per_person_age = total_purchase_value/total_count_age\n",
    "\n",
    "age_summary = pd.DataFrame({\"Purchase Count\": purchase_count_age,\n",
    "                                 \"Average Purchase Price\": avg_purchase_price_age,\n",
    "                                 \"Total Purchase Value\":total_purchase_value,\n",
    "                                 \"Average Purchase Total per Person\": avg_purchase_per_person_age})\n",
    "\n",
    "age_summary.index.name = None\n",
    "\n",
    "age_summary.style.format({\"Average Purchase Price\":\"${:,.2f}\",\n",
    "                               \"Total Purchase Value\":\"${:,.2f}\",\n",
    "                               \"Average Purchase Total per Person\":\"${:,.2f}\"})"
   ]
  },
  {
   "cell_type": "markdown",
   "metadata": {},
   "source": [
    "## Top Spenders"
   ]
  },
  {
   "cell_type": "markdown",
   "metadata": {},
   "source": [
    "* Run basic calculations to obtain the results in the table below\n",
    "\n",
    "\n",
    "* Create a summary data frame to hold the results\n",
    "\n",
    "\n",
    "* Sort the total purchase value column in descending order\n",
    "\n",
    "\n",
    "* Optional: give the displayed data cleaner formatting\n",
    "\n",
    "\n",
    "* Display a preview of the summary data frame\n",
    "\n"
   ]
  },
  {
   "cell_type": "code",
   "execution_count": 34,
   "metadata": {},
   "outputs": [
    {
     "data": {
      "text/html": [
       "<style  type=\"text/css\" >\n",
       "</style>  \n",
       "<table id=\"T_8b3e720e_42b0_11e9_8a3a_9a000ba7b6f0\" > \n",
       "<thead>    <tr> \n",
       "        <th class=\"blank level0\" ></th> \n",
       "        <th class=\"col_heading level0 col0\" >Purchase Count</th> \n",
       "        <th class=\"col_heading level0 col1\" >Average Purchase Price</th> \n",
       "        <th class=\"col_heading level0 col2\" >Total Purchase Value</th> \n",
       "    </tr>    <tr> \n",
       "        <th class=\"index_name level0\" >SN</th> \n",
       "        <th class=\"blank\" ></th> \n",
       "        <th class=\"blank\" ></th> \n",
       "        <th class=\"blank\" ></th> \n",
       "    </tr></thead> \n",
       "<tbody>    <tr> \n",
       "        <th id=\"T_8b3e720e_42b0_11e9_8a3a_9a000ba7b6f0level0_row0\" class=\"row_heading level0 row0\" >Lisosia93</th> \n",
       "        <td id=\"T_8b3e720e_42b0_11e9_8a3a_9a000ba7b6f0row0_col0\" class=\"data row0 col0\" >5</td> \n",
       "        <td id=\"T_8b3e720e_42b0_11e9_8a3a_9a000ba7b6f0row0_col1\" class=\"data row0 col1\" >$3.79</td> \n",
       "        <td id=\"T_8b3e720e_42b0_11e9_8a3a_9a000ba7b6f0row0_col2\" class=\"data row0 col2\" >$18.96</td> \n",
       "    </tr>    <tr> \n",
       "        <th id=\"T_8b3e720e_42b0_11e9_8a3a_9a000ba7b6f0level0_row1\" class=\"row_heading level0 row1\" >Idastidru52</th> \n",
       "        <td id=\"T_8b3e720e_42b0_11e9_8a3a_9a000ba7b6f0row1_col0\" class=\"data row1 col0\" >4</td> \n",
       "        <td id=\"T_8b3e720e_42b0_11e9_8a3a_9a000ba7b6f0row1_col1\" class=\"data row1 col1\" >$3.86</td> \n",
       "        <td id=\"T_8b3e720e_42b0_11e9_8a3a_9a000ba7b6f0row1_col2\" class=\"data row1 col2\" >$15.45</td> \n",
       "    </tr>    <tr> \n",
       "        <th id=\"T_8b3e720e_42b0_11e9_8a3a_9a000ba7b6f0level0_row2\" class=\"row_heading level0 row2\" >Chamjask73</th> \n",
       "        <td id=\"T_8b3e720e_42b0_11e9_8a3a_9a000ba7b6f0row2_col0\" class=\"data row2 col0\" >3</td> \n",
       "        <td id=\"T_8b3e720e_42b0_11e9_8a3a_9a000ba7b6f0row2_col1\" class=\"data row2 col1\" >$4.61</td> \n",
       "        <td id=\"T_8b3e720e_42b0_11e9_8a3a_9a000ba7b6f0row2_col2\" class=\"data row2 col2\" >$13.83</td> \n",
       "    </tr>    <tr> \n",
       "        <th id=\"T_8b3e720e_42b0_11e9_8a3a_9a000ba7b6f0level0_row3\" class=\"row_heading level0 row3\" >Iral74</th> \n",
       "        <td id=\"T_8b3e720e_42b0_11e9_8a3a_9a000ba7b6f0row3_col0\" class=\"data row3 col0\" >4</td> \n",
       "        <td id=\"T_8b3e720e_42b0_11e9_8a3a_9a000ba7b6f0row3_col1\" class=\"data row3 col1\" >$3.40</td> \n",
       "        <td id=\"T_8b3e720e_42b0_11e9_8a3a_9a000ba7b6f0row3_col2\" class=\"data row3 col2\" >$13.62</td> \n",
       "    </tr>    <tr> \n",
       "        <th id=\"T_8b3e720e_42b0_11e9_8a3a_9a000ba7b6f0level0_row4\" class=\"row_heading level0 row4\" >Iskadarya95</th> \n",
       "        <td id=\"T_8b3e720e_42b0_11e9_8a3a_9a000ba7b6f0row4_col0\" class=\"data row4 col0\" >3</td> \n",
       "        <td id=\"T_8b3e720e_42b0_11e9_8a3a_9a000ba7b6f0row4_col1\" class=\"data row4 col1\" >$4.37</td> \n",
       "        <td id=\"T_8b3e720e_42b0_11e9_8a3a_9a000ba7b6f0row4_col2\" class=\"data row4 col2\" >$13.10</td> \n",
       "    </tr></tbody> \n",
       "</table> "
      ],
      "text/plain": [
       "<pandas.io.formats.style.Styler at 0x116388780>"
      ]
     },
     "execution_count": 34,
     "metadata": {},
     "output_type": "execute_result"
    }
   ],
   "source": [
    "spender_info = purchase_data.groupby(\"SN\")\n",
    "\n",
    "purchase_spender_info = spender_info[\"Purchase ID\"].count()\n",
    "\n",
    "avg_price_spender_info = spender_info[\"Price\"].mean()\n",
    "\n",
    "purchase_total_spender_info = spender_info[\"Price\"].sum()\n",
    "\n",
    "top_spenders = pd.DataFrame({\"Purchase Count\": purchase_spender_info,\n",
    "                             \"Average Purchase Price\": avg_price_spender_info,\n",
    "                             \"Total Purchase Value\":purchase_total_spender_info})\n",
    " \n",
    "clean_spenders = top_spenders.sort_values([\"Total Purchase Value\"], ascending=False).head()\n",
    "\n",
    "clean_spenders.style.format({\"Average Purchase Total\":\"${:,.2f}\",\n",
    "                                 \"Average Purchase Price\":\"${:,.2f}\", \n",
    "                                 \"Total Purchase Value\":\"${:,.2f}\"})"
   ]
  },
  {
   "cell_type": "markdown",
   "metadata": {},
   "source": [
    "## Most Popular Items"
   ]
  },
  {
   "cell_type": "markdown",
   "metadata": {},
   "source": [
    "* Retrieve the Item ID, Item Name, and Item Price columns\n",
    "\n",
    "\n",
    "* Group by Item ID and Item Name. Perform calculations to obtain purchase count, item price, and total purchase value\n",
    "\n",
    "\n",
    "* Create a summary data frame to hold the results\n",
    "\n",
    "\n",
    "* Sort the purchase count column in descending order\n",
    "\n",
    "\n",
    "* Optional: give the displayed data cleaner formatting\n",
    "\n",
    "\n",
    "* Display a preview of the summary data frame\n",
    "\n"
   ]
  },
  {
   "cell_type": "code",
   "execution_count": 35,
   "metadata": {},
   "outputs": [
    {
     "data": {
      "text/html": [
       "<style  type=\"text/css\" >\n",
       "</style>  \n",
       "<table id=\"T_8dd29342_42b0_11e9_8a3a_9a000ba7b6f0\" > \n",
       "<thead>    <tr> \n",
       "        <th class=\"blank\" ></th> \n",
       "        <th class=\"blank level0\" ></th> \n",
       "        <th class=\"col_heading level0 col0\" >Purchase Count</th> \n",
       "        <th class=\"col_heading level0 col1\" >Item Price</th> \n",
       "        <th class=\"col_heading level0 col2\" >Total Purchase Value</th> \n",
       "    </tr>    <tr> \n",
       "        <th class=\"index_name level0\" >Item ID</th> \n",
       "        <th class=\"index_name level1\" >Item Name</th> \n",
       "        <th class=\"blank\" ></th> \n",
       "        <th class=\"blank\" ></th> \n",
       "        <th class=\"blank\" ></th> \n",
       "    </tr></thead> \n",
       "<tbody>    <tr> \n",
       "        <th id=\"T_8dd29342_42b0_11e9_8a3a_9a000ba7b6f0level0_row0\" class=\"row_heading level0 row0\" >178</th> \n",
       "        <th id=\"T_8dd29342_42b0_11e9_8a3a_9a000ba7b6f0level1_row0\" class=\"row_heading level1 row0\" >Oathbreaker, Last Hope of the Breaking Storm</th> \n",
       "        <td id=\"T_8dd29342_42b0_11e9_8a3a_9a000ba7b6f0row0_col0\" class=\"data row0 col0\" >12</td> \n",
       "        <td id=\"T_8dd29342_42b0_11e9_8a3a_9a000ba7b6f0row0_col1\" class=\"data row0 col1\" >$4.23</td> \n",
       "        <td id=\"T_8dd29342_42b0_11e9_8a3a_9a000ba7b6f0row0_col2\" class=\"data row0 col2\" >$50.76</td> \n",
       "    </tr>    <tr> \n",
       "        <th id=\"T_8dd29342_42b0_11e9_8a3a_9a000ba7b6f0level0_row1\" class=\"row_heading level0 row1\" >145</th> \n",
       "        <th id=\"T_8dd29342_42b0_11e9_8a3a_9a000ba7b6f0level1_row1\" class=\"row_heading level1 row1\" >Fiery Glass Crusader</th> \n",
       "        <td id=\"T_8dd29342_42b0_11e9_8a3a_9a000ba7b6f0row1_col0\" class=\"data row1 col0\" >9</td> \n",
       "        <td id=\"T_8dd29342_42b0_11e9_8a3a_9a000ba7b6f0row1_col1\" class=\"data row1 col1\" >$4.58</td> \n",
       "        <td id=\"T_8dd29342_42b0_11e9_8a3a_9a000ba7b6f0row1_col2\" class=\"data row1 col2\" >$41.22</td> \n",
       "    </tr>    <tr> \n",
       "        <th id=\"T_8dd29342_42b0_11e9_8a3a_9a000ba7b6f0level0_row2\" class=\"row_heading level0 row2\" >108</th> \n",
       "        <th id=\"T_8dd29342_42b0_11e9_8a3a_9a000ba7b6f0level1_row2\" class=\"row_heading level1 row2\" >Extraction, Quickblade Of Trembling Hands</th> \n",
       "        <td id=\"T_8dd29342_42b0_11e9_8a3a_9a000ba7b6f0row2_col0\" class=\"data row2 col0\" >9</td> \n",
       "        <td id=\"T_8dd29342_42b0_11e9_8a3a_9a000ba7b6f0row2_col1\" class=\"data row2 col1\" >$3.53</td> \n",
       "        <td id=\"T_8dd29342_42b0_11e9_8a3a_9a000ba7b6f0row2_col2\" class=\"data row2 col2\" >$31.77</td> \n",
       "    </tr>    <tr> \n",
       "        <th id=\"T_8dd29342_42b0_11e9_8a3a_9a000ba7b6f0level0_row3\" class=\"row_heading level0 row3\" >82</th> \n",
       "        <th id=\"T_8dd29342_42b0_11e9_8a3a_9a000ba7b6f0level1_row3\" class=\"row_heading level1 row3\" >Nirvana</th> \n",
       "        <td id=\"T_8dd29342_42b0_11e9_8a3a_9a000ba7b6f0row3_col0\" class=\"data row3 col0\" >9</td> \n",
       "        <td id=\"T_8dd29342_42b0_11e9_8a3a_9a000ba7b6f0row3_col1\" class=\"data row3 col1\" >$4.90</td> \n",
       "        <td id=\"T_8dd29342_42b0_11e9_8a3a_9a000ba7b6f0row3_col2\" class=\"data row3 col2\" >$44.10</td> \n",
       "    </tr>    <tr> \n",
       "        <th id=\"T_8dd29342_42b0_11e9_8a3a_9a000ba7b6f0level0_row4\" class=\"row_heading level0 row4\" >19</th> \n",
       "        <th id=\"T_8dd29342_42b0_11e9_8a3a_9a000ba7b6f0level1_row4\" class=\"row_heading level1 row4\" >Pursuit, Cudgel of Necromancy</th> \n",
       "        <td id=\"T_8dd29342_42b0_11e9_8a3a_9a000ba7b6f0row4_col0\" class=\"data row4 col0\" >8</td> \n",
       "        <td id=\"T_8dd29342_42b0_11e9_8a3a_9a000ba7b6f0row4_col1\" class=\"data row4 col1\" >$1.02</td> \n",
       "        <td id=\"T_8dd29342_42b0_11e9_8a3a_9a000ba7b6f0row4_col2\" class=\"data row4 col2\" >$8.16</td> \n",
       "    </tr></tbody> \n",
       "</table> "
      ],
      "text/plain": [
       "<pandas.io.formats.style.Styler at 0x116374198>"
      ]
     },
     "execution_count": 35,
     "metadata": {},
     "output_type": "execute_result"
    }
   ],
   "source": [
    "items = purchase_data[[\"Item ID\", \"Item Name\", \"Price\"]]\n",
    "\n",
    "item_groups = items.groupby([\"Item ID\",\"Item Name\"])\n",
    "\n",
    "purchase_count_item = item_groups[\"Price\"].count()\n",
    "\n",
    "purchase_value = (item_groups[\"Price\"].sum()) \n",
    "\n",
    "item_price = purchase_value/purchase_count_item\n",
    "\n",
    "most_popular_items = pd.DataFrame({\"Purchase Count\": purchase_count_item, \n",
    "                                   \"Item Price\": item_price,\n",
    "                                   \"Total Purchase Value\":purchase_value})\n",
    "\n",
    "popular_clean = most_popular_items.sort_values([\"Purchase Count\"], ascending=False).head()\n",
    "\n",
    "popular_clean.style.format({\"Item Price\":\"${:,.2f}\",\n",
    "                                \"Total Purchase Value\":\"${:,.2f}\"})"
   ]
  },
  {
   "cell_type": "markdown",
   "metadata": {},
   "source": [
    "## Most Profitable Items"
   ]
  },
  {
   "cell_type": "markdown",
   "metadata": {},
   "source": [
    "* Sort the above table by total purchase value in descending order\n",
    "\n",
    "\n",
    "* Optional: give the displayed data cleaner formatting\n",
    "\n",
    "\n",
    "* Display a preview of the data frame\n",
    "\n"
   ]
  },
  {
   "cell_type": "code",
   "execution_count": 36,
   "metadata": {
    "scrolled": true
   },
   "outputs": [
    {
     "data": {
      "text/html": [
       "<style  type=\"text/css\" >\n",
       "</style>  \n",
       "<table id=\"T_914006cc_42b0_11e9_8a3a_9a000ba7b6f0\" > \n",
       "<thead>    <tr> \n",
       "        <th class=\"blank\" ></th> \n",
       "        <th class=\"blank level0\" ></th> \n",
       "        <th class=\"col_heading level0 col0\" >Purchase Count</th> \n",
       "        <th class=\"col_heading level0 col1\" >Item Price</th> \n",
       "        <th class=\"col_heading level0 col2\" >Total Purchase Value</th> \n",
       "    </tr>    <tr> \n",
       "        <th class=\"index_name level0\" >Item ID</th> \n",
       "        <th class=\"index_name level1\" >Item Name</th> \n",
       "        <th class=\"blank\" ></th> \n",
       "        <th class=\"blank\" ></th> \n",
       "        <th class=\"blank\" ></th> \n",
       "    </tr></thead> \n",
       "<tbody>    <tr> \n",
       "        <th id=\"T_914006cc_42b0_11e9_8a3a_9a000ba7b6f0level0_row0\" class=\"row_heading level0 row0\" >178</th> \n",
       "        <th id=\"T_914006cc_42b0_11e9_8a3a_9a000ba7b6f0level1_row0\" class=\"row_heading level1 row0\" >Oathbreaker, Last Hope of the Breaking Storm</th> \n",
       "        <td id=\"T_914006cc_42b0_11e9_8a3a_9a000ba7b6f0row0_col0\" class=\"data row0 col0\" >12</td> \n",
       "        <td id=\"T_914006cc_42b0_11e9_8a3a_9a000ba7b6f0row0_col1\" class=\"data row0 col1\" >$4.23</td> \n",
       "        <td id=\"T_914006cc_42b0_11e9_8a3a_9a000ba7b6f0row0_col2\" class=\"data row0 col2\" >$50.76</td> \n",
       "    </tr>    <tr> \n",
       "        <th id=\"T_914006cc_42b0_11e9_8a3a_9a000ba7b6f0level0_row1\" class=\"row_heading level0 row1\" >82</th> \n",
       "        <th id=\"T_914006cc_42b0_11e9_8a3a_9a000ba7b6f0level1_row1\" class=\"row_heading level1 row1\" >Nirvana</th> \n",
       "        <td id=\"T_914006cc_42b0_11e9_8a3a_9a000ba7b6f0row1_col0\" class=\"data row1 col0\" >9</td> \n",
       "        <td id=\"T_914006cc_42b0_11e9_8a3a_9a000ba7b6f0row1_col1\" class=\"data row1 col1\" >$4.90</td> \n",
       "        <td id=\"T_914006cc_42b0_11e9_8a3a_9a000ba7b6f0row1_col2\" class=\"data row1 col2\" >$44.10</td> \n",
       "    </tr>    <tr> \n",
       "        <th id=\"T_914006cc_42b0_11e9_8a3a_9a000ba7b6f0level0_row2\" class=\"row_heading level0 row2\" >145</th> \n",
       "        <th id=\"T_914006cc_42b0_11e9_8a3a_9a000ba7b6f0level1_row2\" class=\"row_heading level1 row2\" >Fiery Glass Crusader</th> \n",
       "        <td id=\"T_914006cc_42b0_11e9_8a3a_9a000ba7b6f0row2_col0\" class=\"data row2 col0\" >9</td> \n",
       "        <td id=\"T_914006cc_42b0_11e9_8a3a_9a000ba7b6f0row2_col1\" class=\"data row2 col1\" >$4.58</td> \n",
       "        <td id=\"T_914006cc_42b0_11e9_8a3a_9a000ba7b6f0row2_col2\" class=\"data row2 col2\" >$41.22</td> \n",
       "    </tr>    <tr> \n",
       "        <th id=\"T_914006cc_42b0_11e9_8a3a_9a000ba7b6f0level0_row3\" class=\"row_heading level0 row3\" >92</th> \n",
       "        <th id=\"T_914006cc_42b0_11e9_8a3a_9a000ba7b6f0level1_row3\" class=\"row_heading level1 row3\" >Final Critic</th> \n",
       "        <td id=\"T_914006cc_42b0_11e9_8a3a_9a000ba7b6f0row3_col0\" class=\"data row3 col0\" >8</td> \n",
       "        <td id=\"T_914006cc_42b0_11e9_8a3a_9a000ba7b6f0row3_col1\" class=\"data row3 col1\" >$4.88</td> \n",
       "        <td id=\"T_914006cc_42b0_11e9_8a3a_9a000ba7b6f0row3_col2\" class=\"data row3 col2\" >$39.04</td> \n",
       "    </tr>    <tr> \n",
       "        <th id=\"T_914006cc_42b0_11e9_8a3a_9a000ba7b6f0level0_row4\" class=\"row_heading level0 row4\" >103</th> \n",
       "        <th id=\"T_914006cc_42b0_11e9_8a3a_9a000ba7b6f0level1_row4\" class=\"row_heading level1 row4\" >Singed Scalpel</th> \n",
       "        <td id=\"T_914006cc_42b0_11e9_8a3a_9a000ba7b6f0row4_col0\" class=\"data row4 col0\" >8</td> \n",
       "        <td id=\"T_914006cc_42b0_11e9_8a3a_9a000ba7b6f0row4_col1\" class=\"data row4 col1\" >$4.35</td> \n",
       "        <td id=\"T_914006cc_42b0_11e9_8a3a_9a000ba7b6f0row4_col2\" class=\"data row4 col2\" >$34.80</td> \n",
       "    </tr></tbody> \n",
       "</table> "
      ],
      "text/plain": [
       "<pandas.io.formats.style.Styler at 0x11157ab00>"
      ]
     },
     "execution_count": 36,
     "metadata": {},
     "output_type": "execute_result"
    }
   ],
   "source": [
    "popular_clean = most_popular_items.sort_values([\"Total Purchase Value\"],\n",
    "                                                   ascending=False).head()\n",
    "popular_clean.style.format({\"Item Price\":\"${:,.2f}\",\n",
    "                                \"Total Purchase Value\":\"${:,.2f}\"})"
   ]
  },
  {
   "cell_type": "code",
   "execution_count": 39,
   "metadata": {},
   "outputs": [],
   "source": [
    "## 3 observable Trends"
   ]
  },
  {
   "cell_type": "code",
   "execution_count": null,
   "metadata": {},
   "outputs": [],
   "source": [
    "# 1. girls spend more on games than boys. they also buy more per avg\n",
    "# 2. people don't purchase as much after the age of 25\n",
    "# 3. even thogh people don't buy as much after 25, they are still willing to pay the same, and in same cases, higher prices"
   ]
  }
 ],
 "metadata": {
  "anaconda-cloud": {},
  "kernel_info": {
   "name": "python3"
  },
  "kernelspec": {
   "display_name": "Python 3",
   "language": "python",
   "name": "python3"
  },
  "language_info": {
   "codemirror_mode": {
    "name": "ipython",
    "version": 3
   },
   "file_extension": ".py",
   "mimetype": "text/x-python",
   "name": "python",
   "nbconvert_exporter": "python",
   "pygments_lexer": "ipython3",
   "version": "3.7.1"
  },
  "nteract": {
   "version": "0.2.0"
  }
 },
 "nbformat": 4,
 "nbformat_minor": 2
}
